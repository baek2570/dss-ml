{
 "cells": [
  {
   "cell_type": "markdown",
   "metadata": {},
   "source": [
    "# --- 0901 정리"
   ]
  },
  {
   "cell_type": "markdown",
   "metadata": {
    "collapsed": true
   },
   "source": [
    "## 관련 패키지 설치 및 환경 설정 \n",
    "\n",
    " - PIP install을 통해 관련 라이브러리 설치 \n",
    "   [설치리스트 참고](https://datascienceschool.net/view-notebook/b85212ea4040408e8ebd6d3495f2c91b/)\n",
    " - ipython 관련 설정파일 (ipython_config.py) 생성\n",
    "   $ ipython profile create (/Users/seungminbaek/.ipython/profile_default)\n",
    " - startup 폴더 내 디폴트 import를 위한 스트립트 작성 (import 상세 내역은 아래 코드 참조) \n",
    " - ipython_config.py 파일 수정\n",
    " - 별도 import 없이 아래 예제 코드 수행가능함을 확인함."
   ]
  },
  {
   "cell_type": "code",
   "execution_count": null,
   "metadata": {
    "collapsed": true
   },
   "outputs": [],
   "source": [
    "a = np.array([0, 1, 2, 3, 4, 5, 6, 7, 8, 9])\n",
    "print (a)"
   ]
  },
  {
   "cell_type": "code",
   "execution_count": null,
   "metadata": {
    "collapsed": true
   },
   "outputs": [],
   "source": [
    "import numpy as np\n",
    "import scipy as sp\n",
    "import pandas as pd\n",
    "import statsmodels.api as sm\n",
    "import statsmodels.formula.api as smf\n",
    "import statsmodels.stats.api as sms\n",
    "import sklearn as sk\n",
    "\n",
    "import matplotlib as mpl\n",
    "mpl.use('Agg')\n",
    "import matplotlib.pylab as plt\n",
    "from mpl_toolkits.mplot3d import Axes3D\n",
    "\n",
    "import seaborn as sns\n",
    "sns.set()\n",
    "sns.set_style(\"whitegrid\")\n",
    "sns.set_color_codes()"
   ]
  },
  {
   "cell_type": "markdown",
   "metadata": {},
   "source": [
    "# 0902 수업시작!!"
   ]
  },
  {
   "cell_type": "markdown",
   "metadata": {},
   "source": [
    "[NumPy 배열 사용하기](https://datascienceschool.net/view-notebook/35099ac4aea146c69cc4b3f50aec736f/)"
   ]
  },
  {
   "cell_type": "markdown",
   "metadata": {},
   "source": [
    "#### NumPy \n",
    "- NumPy : 기본적으로 Pyhton에서는 배열형태의 자료형을 제공하지 않음. \n",
    "         (리스트와 비교한 배열의 차이점 : Python의 리스트는 각원소가 다음원소의 위치값을 가지고 있는 linkedlist 형태의 구조로 존재함.\n",
    "                                   이에 다음원소를 탐색하는 속도가 느리고 상태적으로 메모리 소모가 큼. \n",
    "                                   이에 비해 배열은 사이즈와 인덱스가 Fix되어 있는 상태로 선언됨에따라 list에 비해 index 탐색 및\n",
    "                                   반복문 실행 속도가 빠르고 메모리소모가 적음.\n",
    "                                   반면 내부 원소의 속성이 모두 동일해야한다는 제약이 존재하며, 표면적으로는 선언 후 사이즈 추가를\n",
    "                                   제공하지만 내부적으로 별도의 메모리 공간을 재할당하는 과정이 수반됨에 따라 속도가 느리다.)\n",
    "- NumPy를 통해 Python에서 배열을 사용할 수 있으며, \n",
    "  C로 구현된 각종 내부 반복문을 사용함으로써 Python에서 반목문을통해 수행하는 계산보다 속도가 월등히 빠르다. \n",
    "  또한 Vectorized operation을 통해 복잡한 선형대수 연산을 수행할 수 있으며,\n",
    "  array indexing을 통한 query를 통해 간단한 코드로 복잡한 수식을 계산할 수 있다. \n",
    "  \n",
    "                               "
   ]
  },
  {
   "cell_type": "code",
   "execution_count": null,
   "metadata": {
    "collapsed": true
   },
   "outputs": [],
   "source": [
    "arraytest = np.array([100, 200, 300])\n",
    "print (arraytest)\n",
    "print (type(arraytest))"
   ]
  },
  {
   "cell_type": "code",
   "execution_count": null,
   "metadata": {
    "collapsed": true
   },
   "outputs": [],
   "source": [
    "#데이터 분석시 하지말아야 할 list 연산\n",
    "list_a = [1,2,3,4,5]\n",
    "list_b = []\n",
    "for i in list_a:\n",
    "    list_b.append(i*2)\n",
    "print (list_b)\n",
    "\n",
    "#데이터 분석할때는 NumPy를 활용한 Vectorized 연산으로!\n",
    "array_a = np.array([1,2,3,4,5])\n",
    "array_b = array_a*2 #FOR문 없이 바로 수행가능!!!!!!\n",
    "print(array_b)\n",
    "print(array_a * 2 + array_b)\n",
    "print(np.log(array_b))"
   ]
  },
  {
   "cell_type": "code",
   "execution_count": null,
   "metadata": {
    "collapsed": true
   },
   "outputs": [],
   "source": [
    "#연습문제 1\n",
    "a = np.array([[10, 20, 30, 40] , [50, 60, 70, 80]])\n",
    "print (a)\n",
    "print (len(a))\n",
    "print (len(a[0]))"
   ]
  },
  {
   "cell_type": "code",
   "execution_count": null,
   "metadata": {
    "collapsed": true
   },
   "outputs": [],
   "source": [
    "#3차원 배열 선언\n",
    "d3 = np.array([[[1, 2, 3, 4, 5], [6, 7, 8, 9, 10]], [[11, 12, 13, 14, 15], [16, 17, 18, 19, 20]], [[21, 22, 23, 24, 25], [26, 27, 28, 29, 30]]])\n",
    "print (d3)\n",
    "print (np.shape(d3)) #shape은 tuple 형태로 결과 값을 리턴함. So 1차원 배열의 경우 (3,)의 형태로 리턴됨. 원소가 하나인 tuple은 이렇게 표현됨.\n",
    "print (np.ndim(d3))"
   ]
  },
  {
   "cell_type": "code",
   "execution_count": 1,
   "metadata": {},
   "outputs": [
    {
     "name": "stdout",
     "output_type": "stream",
     "text": [
      "[[ 0  1  2  3  4]\n",
      " [ 5  6  7  8  9]\n",
      " [10 11 12 13 14]]\n",
      "7\n",
      "14\n",
      "[6 7]\n",
      "[ 7 12]\n",
      "[[3 4]\n",
      " [8 9]]\n"
     ]
    }
   ],
   "source": [
    "#연습문제 2\n",
    "m = np.array([[0, 1, 2, 3, 4],\n",
    "            [5, 6, 7, 8, 9],\n",
    "            [10, 11, 12, 13, 14]])\n",
    "\n",
    "print (m)\n",
    "print (m[1, 2])\n",
    "print (m[2, 4])\n",
    "print (m[1, 1:3])\n",
    "print (m[1:3, 2])\n",
    "print (m[0:2, 3:5])"
   ]
  },
  {
   "cell_type": "markdown",
   "metadata": {},
   "source": [
    "#### 배열 인덱싱\n",
    " - array[0]과 같이 배열내 특정 원소에 접근하기 위한 방법으로써 \n",
    "   인덱스 배열을 정의하고 array[인덱스배열] 형태로 질의가 가능함. \n",
    " - Fancy indexing 이라고 불리우기도 함. \n",
    "   DB query와 같은 기능을 수행함. \n",
    " - boolean 방식과 정수 배열 방식 두가지 방법이 존재함. \n",
    "   - boolean 방식 : 인덱스 배열의 원소가 True, False 두 값으로 구성되며 인덱스배열의 크기가 탐색 대상 ndarray 크기와 같아야한다. \n",
    "   - 정수형 방식 : 인덱스 배열의 원소 각각이 탐색 대상 배열 원소하나를 가르키는 인덱스 정수임. 크기는 더 적을수도 더 클수도 있음. (중복가능)\n",
    "   "
   ]
  },
  {
   "cell_type": "code",
   "execution_count": 14,
   "metadata": {},
   "outputs": [
    {
     "name": "stdout",
     "output_type": "stream",
     "text": [
      "[0 2 4]\n",
      "[0 2 4]\n",
      "[1 3]\n",
      "[ 0 10 20]\n",
      "[30 40 50]\n",
      "[[ 0  1  2  3]\n",
      " [ 4  5  6  7]\n",
      " [ 8  9 10 11]]\n",
      "[[ 0  2]\n",
      " [ 4  6]\n",
      " [ 8 10]]\n",
      "[[ 8  9 10 11]\n",
      " [ 0  1  2  3]]\n"
     ]
    }
   ],
   "source": [
    "#boolean 방식의 배열 인덱싱\n",
    "array_a = np.array([0, 1, 2, 3, 4])\n",
    "idx = np.array([True, False, True, False, True])\n",
    "print (array_a[idx])\n",
    "print (array_a[array_a % 2 == 0])\n",
    "print (array_a[array_a % 2 != 0])\n",
    "\n",
    "#정수 배열 인덱스의 활용\n",
    "array_b = np.array([0, 1, 2, 3, 4, 5, 6, 7, 8, 9, 10]) * 10\n",
    "idx2 = np.array([0, 1, 2])\n",
    "print (array_b[idx2])\n",
    "print (array_b[[3, 4, 5]])\n",
    "\n",
    "#다차원 배열에서의 배열 indexing\n",
    "d2 = np.array([[0, 1, 2, 3], [4, 5, 6, 7], [8, 9, 10, 11]])\n",
    "print (d2)\n",
    "#홀수 column 값만 slice\n",
    "print (d2[:, [True, False, True, False]])\n",
    "#특정 row 전체 column 값만 slice\n",
    "print (d2[[2, 0], :])"
   ]
  },
  {
   "cell_type": "markdown",
   "metadata": {},
   "source": [
    "## 선형대수 시작!"
   ]
  },
  {
   "cell_type": "markdown",
   "metadata": {},
   "source": [
    "[NumPy를 활용한 선형대수 입문](https://datascienceschool.net/view-notebook/cd600e9627cd4f16bc4f6078231ab28c/)\n",
    "- 중요개념\n",
    " - 스칼라, 벡터, 행렬\n",
    " - 행, 열, 차원\n",
    " - 특징벡터, 특징행렬\n",
    " - 행렬의 연산 (전치연산 + 사칙연산)\n",
    " - 영벡터, 일벡터, 정방행렬, 대각행렬, 단위행렬, 대칭행렬\n",
    "\n",
    "\n",
    "- 선형대수의 의미\n",
    " - 수많은 데이터를 다루는 데이터 분석 분야에서 데이터 하나가 수만개의 숫자로 이뤄졌을수도 있고, \n",
    "   수만개의 숫자 집합으로 구성되어있을수도 있음. \n",
    "   선형대수를 사용하면 대량의 데이터를 간단한 수식으로 표현할 수 있으며, 데이터의 처리과정을 정확하고 간단하게 서술할 수 있다. \n",
    "\n",
    "\n",
    "- 데이터 유형\n",
    " - 스칼라 : 하나의 숫자로 이뤄진 데이터, (ex. 붓꽃 하나의 꽃잎의 길이) 소문자 하나로 표현하며, 실수집합의 원소라는 의미로 x∈R 로 표현함.\n",
    " - 벡터 : 여러개의 숫자가 특정 순서로 모여있는것. (ex. 붓꽃하나의 꽃잎의 길이 x1, 폭 x2, 꽃받힘의 길이 x3 라는 3개의 숫자) 이는 하나의 데이터에서 나온 데이터이므로, 하나의 쌍 (tuple)로 묶는것이 좋음. 데이터의 순서를 유지해야 그 의미가 유지될 수 있다는 점이 중요하며, 이러한 데이터의 묶음을 선형대수에서는 벡터라고 칭함. 벡터는 복수의 가로줄(행, row)을 가지고 하나의 세로줄 (열, column)을 가지는 형태로써 위에서 아래로 표기해야한다. 하나의 벡터를 이루는 데이터의 개수를 차원(dimension)이라고 칭함. 이러한 벡터형태의 데이터를 통해 예측문제를 풀고 있다면 이러한 데이터를 특징벡터(feature vector)라고 칭함. \n"
   ]
  },
  {
   "cell_type": "code",
   "execution_count": 18,
   "metadata": {},
   "outputs": [
    {
     "name": "stdout",
     "output_type": "stream",
     "text": [
      "[[ 1.1]\n",
      " [ 2.2]\n",
      " [ 3.3]\n",
      " [ 4.4]\n",
      " [ 5. ]]\n"
     ]
    }
   ],
   "source": [
    "# NumPy 에서의 벡터의 표현 : 1차원 배열 객체로 벡터로 인정하나, 2차원 배열 객체로 표현하는 것이 정석임. \n",
    "x1 = np.array([[1.1], \n",
    "                [2.2], \n",
    "                [3.3], \n",
    "                [4.4],\n",
    "                [5]])\n",
    "print (x1)"
   ]
  },
  {
   "cell_type": "code",
   "execution_count": 20,
   "metadata": {},
   "outputs": [
    {
     "name": "stdout",
     "output_type": "stream",
     "text": [
      "[[ 4.9]\n",
      " [ 3. ]\n",
      " [ 1.4]\n",
      " [ 0.2]]\n",
      "[ 4.9  3.   0.   1.4  0.2]\n"
     ]
    }
   ],
   "source": [
    "#연습문제 1\n",
    "x2 = np.array([[4.9], [3.0], [1.4], [0.2]])\n",
    "x3 = np.array([4.9, 3,0, 1.4, 0.2])\n",
    "print (x2)\n",
    "print (x3)"
   ]
  },
  {
   "cell_type": "markdown",
   "metadata": {},
   "source": [
    "# 행렬할 차례!"
   ]
  },
  {
   "cell_type": "code",
   "execution_count": null,
   "metadata": {
    "collapsed": true
   },
   "outputs": [],
   "source": [
    "zero = np.array([0, 0, 0])\n",
    "print (zero)\n",
    "one = np.array([1, 1, 1])\n",
    "print (zero)\n",
    "sq = np.array([[2, 3], [2,4]])\n",
    "print (sq)\n",
    "di = np.array([[1,0,0], [0, 3, 0], [0, 0, 5]])\n",
    "print (di)\n",
    "iden = np.array([[1, 0, 0], [0, 1, 0], [0, 0, 1]])\n",
    "print (iden)\n",
    "sy = np.array([[1, 4, 7], [4, 3, 6], [7, 6, 5]])\n",
    "print (sy)"
   ]
  },
  {
   "cell_type": "code",
   "execution_count": null,
   "metadata": {
    "collapsed": true
   },
   "outputs": [],
   "source": []
  }
 ],
 "metadata": {
  "kernelspec": {
   "display_name": "Python 3",
   "language": "python",
   "name": "python3"
  },
  "language_info": {
   "codemirror_mode": {
    "name": "ipython",
    "version": 3
   },
   "file_extension": ".py",
   "mimetype": "text/x-python",
   "name": "python",
   "nbconvert_exporter": "python",
   "pygments_lexer": "ipython3",
   "version": "3.6.1"
  }
 },
 "nbformat": 4,
 "nbformat_minor": 2
}
