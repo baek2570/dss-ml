{
 "cells": [
  {
   "cell_type": "markdown",
   "metadata": {},
   "source": [
    "# --- 0901 정리"
   ]
  },
  {
   "cell_type": "markdown",
   "metadata": {
    "collapsed": true
   },
   "source": [
    "## 관련 패키지 설치 및 환경 설정 \n",
    "\n",
    " - PIP install을 통해 관련 라이브러리 설치 \n",
    "   [설치리스트 참고](https://datascienceschool.net/view-notebook/b85212ea4040408e8ebd6d3495f2c91b/)\n",
    " - ipython 관련 설정파일 (ipython_config.py) 생성\n",
    "   $ ipython profile create (/Users/seungminbaek/.ipython/profile_default)\n",
    " - startup 폴더 내 디폴트 import를 위한 스트립트 작성 (import 상세 내역은 아래 코드 참조) \n",
    " - ipython_config.py 파일 수정\n",
    " - 별도 import 없이 아래 예제 코드 수행가능함을 확인함."
   ]
  },
  {
   "cell_type": "code",
   "execution_count": null,
   "metadata": {
    "collapsed": true
   },
   "outputs": [],
   "source": [
    "a = np.array([0, 1, 2, 3, 4, 5, 6, 7, 8, 9])\n",
    "print (a)"
   ]
  },
  {
   "cell_type": "code",
   "execution_count": null,
   "metadata": {
    "collapsed": true
   },
   "outputs": [],
   "source": [
    "import numpy as np\n",
    "import scipy as sp\n",
    "import pandas as pd\n",
    "import statsmodels.api as sm\n",
    "import statsmodels.formula.api as smf\n",
    "import statsmodels.stats.api as sms\n",
    "import sklearn as sk\n",
    "\n",
    "import matplotlib as mpl\n",
    "mpl.use('Agg')\n",
    "import matplotlib.pylab as plt\n",
    "from mpl_toolkits.mplot3d import Axes3D\n",
    "\n",
    "import seaborn as sns\n",
    "sns.set()\n",
    "sns.set_style(\"whitegrid\")\n",
    "sns.set_color_codes()"
   ]
  },
  {
   "cell_type": "markdown",
   "metadata": {},
   "source": [
    "# 0902 수업시작!!"
   ]
  },
  {
   "cell_type": "markdown",
   "metadata": {},
   "source": [
    "[NumPy 배열 사용하기](https://datascienceschool.net/view-notebook/35099ac4aea146c69cc4b3f50aec736f/)"
   ]
  },
  {
   "cell_type": "markdown",
   "metadata": {},
   "source": [
    "#### NumPy \n",
    "- NumPy : 기본적으로 Pyhton에서는 배열형태의 자료형을 제공하지 않음. \n",
    "         (리스트와 비교한 배열의 차이점 : Python의 리스트는 각원소가 다음원소의 위치값을 가지고 있는 linkedlist 형태의 구조로 존재함.\n",
    "                                   이에 다음원소를 탐색하는 속도가 느리고 상태적으로 메모리 소모가 큼. \n",
    "                                   이에 비해 배열은 사이즈와 인덱스가 Fix되어 있는 상태로 선언됨에따라 list에 비해 index 탐색 및\n",
    "                                   반복문 실행 속도가 빠르고 메모리소모가 적음.\n",
    "                                   반면 내부 원소의 속성이 모두 동일해야한다는 제약이 존재하며, 표면적으로는 선언 후 사이즈 추가를\n",
    "                                   제공하지만 내부적으로 별도의 메모리 공간을 재할당하는 과정이 수반됨에 따라 속도가 느리다.)\n",
    "- NumPy를 통해 Python에서 배열을 사용할 수 있으며, \n",
    "  C로 구현된 각종 내부 반복문을 사용함으로써 Python에서 반목문을통해 수행하는 계산보다 속도가 월등히 빠르다. <br />\n",
    "  또한 Vectorized operation을 통해 복잡한 선형대수 연산을 수행할 수 있으며,\n",
    "  array indexing을 통한 query를 통해 간단한 코드로 복잡한 수식을 계산할 수 있다. \n",
    "  \n",
    "                               "
   ]
  },
  {
   "cell_type": "code",
   "execution_count": null,
   "metadata": {
    "collapsed": true
   },
   "outputs": [],
   "source": [
    "arraytest = np.array([100, 200, 300])\n",
    "print (arraytest)\n",
    "print (type(arraytest))"
   ]
  },
  {
   "cell_type": "code",
   "execution_count": null,
   "metadata": {
    "collapsed": true
   },
   "outputs": [],
   "source": [
    "#데이터 분석시 하지말아야 할 list 연산\n",
    "list_a = [1,2,3,4,5]\n",
    "list_b = []\n",
    "for i in list_a:\n",
    "    list_b.append(i*2)\n",
    "print (list_b)\n",
    "\n",
    "#데이터 분석할때는 NumPy를 활용한 Vectorized 연산으로!\n",
    "array_a = np.array([1,2,3,4,5])\n",
    "array_b = array_a*2 #FOR문 없이 바로 수행가능!!!!!!\n",
    "print(array_b)\n",
    "print(array_a * 2 + array_b)\n",
    "print(np.log(array_b))"
   ]
  },
  {
   "cell_type": "code",
   "execution_count": null,
   "metadata": {
    "collapsed": true
   },
   "outputs": [],
   "source": [
    "#NumPy 배열 사용하기 연습문제 1\n",
    "a = np.array([[10, 20, 30, 40] , [50, 60, 70, 80]])\n",
    "print (a)\n",
    "print (len(a))\n",
    "print (len(a[0]))"
   ]
  },
  {
   "cell_type": "code",
   "execution_count": null,
   "metadata": {
    "collapsed": true
   },
   "outputs": [],
   "source": [
    "#3차원 배열 선언\n",
    "d3 = np.array([[[1, 2, 3, 4, 5], [6, 7, 8, 9, 10]], [[11, 12, 13, 14, 15], [16, 17, 18, 19, 20]], [[21, 22, 23, 24, 25], [26, 27, 28, 29, 30]]])\n",
    "print (d3)\n",
    "print (np.shape(d3)) #shape은 tuple 형태로 결과 값을 리턴함. So 1차원 배열의 경우 (3,)의 형태로 리턴됨. 원소가 하나인 tuple은 이렇게 표현됨.\n",
    "print (np.ndim(d3))"
   ]
  },
  {
   "cell_type": "code",
   "execution_count": 1,
   "metadata": {},
   "outputs": [
    {
     "name": "stdout",
     "output_type": "stream",
     "text": [
      "[[ 0  1  2  3  4]\n",
      " [ 5  6  7  8  9]\n",
      " [10 11 12 13 14]]\n",
      "7\n",
      "14\n",
      "[6 7]\n",
      "[ 7 12]\n",
      "[[3 4]\n",
      " [8 9]]\n"
     ]
    }
   ],
   "source": [
    "#NumPy 배열 사용하기 연습문제 2\n",
    "m = np.array([[0, 1, 2, 3, 4],\n",
    "            [5, 6, 7, 8, 9],\n",
    "            [10, 11, 12, 13, 14]])\n",
    "\n",
    "print (m)\n",
    "print (m[1, 2])\n",
    "print (m[2, 4])\n",
    "print (m[1, 1:3])\n",
    "print (m[1:3, 2])\n",
    "print (m[0:2, 3:5])"
   ]
  },
  {
   "cell_type": "markdown",
   "metadata": {},
   "source": [
    "#### 배열 인덱싱\n",
    " - array[0]과 같이 배열내 특정 원소에 접근하기 위한 방법으로써 \n",
    "   인덱스 배열을 정의하고 array[인덱스배열] 형태로 질의가 가능함. \n",
    " - Fancy indexing 이라고 불리우기도 함. \n",
    "   DB query와 같은 기능을 수행함. \n",
    " - boolean 방식과 정수 배열 방식 두가지 방법이 존재함. \n",
    "   - boolean 방식 : 인덱스 배열의 원소가 True, False 두 값으로 구성되며 인덱스배열의 크기가 탐색 대상 ndarray 크기와 같아야한다. \n",
    "   - 정수형 방식 : 인덱스 배열의 원소 각각이 탐색 대상 배열 원소하나를 가르키는 인덱스 정수임. 크기는 더 적을수도 더 클수도 있음. (중복가능)\n",
    "   "
   ]
  },
  {
   "cell_type": "code",
   "execution_count": 14,
   "metadata": {},
   "outputs": [
    {
     "name": "stdout",
     "output_type": "stream",
     "text": [
      "[0 2 4]\n",
      "[0 2 4]\n",
      "[1 3]\n",
      "[ 0 10 20]\n",
      "[30 40 50]\n",
      "[[ 0  1  2  3]\n",
      " [ 4  5  6  7]\n",
      " [ 8  9 10 11]]\n",
      "[[ 0  2]\n",
      " [ 4  6]\n",
      " [ 8 10]]\n",
      "[[ 8  9 10 11]\n",
      " [ 0  1  2  3]]\n"
     ]
    }
   ],
   "source": [
    "#boolean 방식의 배열 인덱싱\n",
    "array_a = np.array([0, 1, 2, 3, 4])\n",
    "idx = np.array([True, False, True, False, True])\n",
    "print (array_a[idx])\n",
    "print (array_a[array_a % 2 == 0])\n",
    "print (array_a[array_a % 2 != 0])\n",
    "\n",
    "#정수 배열 인덱스의 활용\n",
    "array_b = np.array([0, 1, 2, 3, 4, 5, 6, 7, 8, 9, 10]) * 10\n",
    "idx2 = np.array([0, 1, 2])\n",
    "print (array_b[idx2])\n",
    "print (array_b[[3, 4, 5]])\n",
    "\n",
    "#다차원 배열에서의 배열 indexing\n",
    "d2 = np.array([[0, 1, 2, 3], [4, 5, 6, 7], [8, 9, 10, 11]])\n",
    "print (d2)\n",
    "#홀수 column 값만 slice\n",
    "print (d2[:, [True, False, True, False]])\n",
    "#특정 row 전체 column 값만 slice\n",
    "print (d2[[2, 0], :])"
   ]
  },
  {
   "cell_type": "markdown",
   "metadata": {},
   "source": [
    "## 선형대수 시작!"
   ]
  },
  {
   "cell_type": "markdown",
   "metadata": {},
   "source": [
    "[NumPy를 활용한 선형대수 입문](https://datascienceschool.net/view-notebook/cd600e9627cd4f16bc4f6078231ab28c/)\n",
    "- 중요개념\n",
    " - 스칼라, 벡터, 행렬\n",
    " - 행, 열, 차원\n",
    " - 특징벡터, 특징행렬\n",
    " - 행렬의 연산 (전치연산 + 사칙연산)\n",
    " - 영벡터, 일벡터, 정방행렬, 대각행렬, 단위행렬, 대칭행렬\n",
    "\n",
    "\n",
    "- 선형대수의 의미\n",
    " - 수많은 데이터를 다루는 데이터 분석 분야에서 데이터 하나가 수만개의 숫자로 이뤄졌을수도 있고, \n",
    "   수만개의 숫자 집합으로 구성되어있을수도 있음. <br />\n",
    "   선형대수를 사용하면 대량의 데이터를 간단한 수식으로 표현할 수 있으며, 데이터의 처리과정을 정확하고 간단하게 서술할 수 있다. \n",
    "\n",
    "\n",
    "- 데이터 유형\n",
    " - 스칼라 : 하나의 숫자로 이뤄진 데이터, (ex. 붓꽃 하나의 꽃잎의 길이) 소문자 하나로 표현하며, 실수집합의 원소라는 의미로 x∈R 로 표현함.\n",
    " - 벡터 : 여러개의 숫자가 특정 순서로 모여있는것. (ex. 붓꽃하나의 꽃잎의 길이 x1, 폭 x2, 꽃받힘의 길이 x3 라는 3개의 숫자) <br />이는 하나의 데이터에서 나온 데이터이므로, 하나의 쌍 (tuple)로 묶는것이 좋음. 데이터의 순서를 유지해야 그 의미가 유지될 수 있다는 점이 중요하며,<br />이러한 데이터의 묶음을 선형대수에서는 벡터라고 칭함. <br />벡터는 복수의 가로줄(행, row)을 가지고 하나의 세로줄 (열, column)을 가지는 형태로써 위에서 아래로 표기해야한다.<br /> 하나의 벡터를 이루는 데이터의 개수를 차원(dimension)이라고 칭함. <br />이러한 벡터형태의 데이터를 통해 예측문제를 풀고 있다면 이러한 데이터를 특징벡터(feature vector)라고 칭함. \n"
   ]
  },
  {
   "cell_type": "code",
   "execution_count": 18,
   "metadata": {},
   "outputs": [
    {
     "name": "stdout",
     "output_type": "stream",
     "text": [
      "[[ 1.1]\n",
      " [ 2.2]\n",
      " [ 3.3]\n",
      " [ 4.4]\n",
      " [ 5. ]]\n"
     ]
    }
   ],
   "source": [
    "# NumPy 에서의 벡터의 표현 : 1차원 배열 객체로 벡터로 인정하나, 2차원 배열 객체로 표현하는 것이 정석임. \n",
    "x1 = np.array([[1.1], \n",
    "                [2.2], \n",
    "                [3.3], \n",
    "                [4.4],\n",
    "                [5]])\n",
    "print (x1)"
   ]
  },
  {
   "cell_type": "code",
   "execution_count": 20,
   "metadata": {},
   "outputs": [
    {
     "name": "stdout",
     "output_type": "stream",
     "text": [
      "[[ 4.9]\n",
      " [ 3. ]\n",
      " [ 1.4]\n",
      " [ 0.2]]\n",
      "[ 4.9  3.   0.   1.4  0.2]\n"
     ]
    }
   ],
   "source": [
    "#NumPy를 활용한 선형대수 입문 연습문제 1\n",
    "x2 = np.array([[4.9], [3.0], [1.4], [0.2]])\n",
    "x3 = np.array([4.9, 3,0, 1.4, 0.2])\n",
    "print (x2)\n",
    "print (x3)"
   ]
  },
  {
   "cell_type": "markdown",
   "metadata": {},
   "source": [
    "# 행렬"
   ]
  },
  {
   "cell_type": "markdown",
   "metadata": {},
   "source": [
    "- 데이터 유형 (스칼라, 벡터에 이어서..)\n",
    " - 행렬 (Matrix)\n",
    "    : 복수차원을 가지는 데이터 레코드가 다시 여러개 있는 경우 데이터를 합쳐서 표현한 것. <br /> \n",
    "      행렬은 보통 알파벳 대문자로 표기한다. 또한 행렬의 원소하나하나는 콤마로 구분된 두개의 숫자로 표현되며, <br />\n",
    "      첫번째 숫자가 행(row), 두번째 숫자가 열(column)을 뜻한다. <br />\n",
    "      벡터는 열의 수가 1인 행렬이라고 볼수있기 때문에 벡터를 다른말로 열벡터(column vector)라고 부른다. <br />\n",
    "      데이터를 묶어서 표현할때는 위에서 벡터로 표현된 하나의 데이터 레코드를 열이아닌 행으로 표현한다. <br />\n",
    "      하나의 데이터를 벡터로표현할때는 세로모양의 열백터로, 여러개의 데이터를 행렬로 표현할때는 하나의 데이터가 열이아닌 행(row)으로 표기!!! <br />\n",
    "      이러한 행렬 데이터를 활용하여 예측문제를 푸는경우 해당 행렬을 특징행렬 (feature matrix)라고 칭함. "
   ]
  },
  {
   "cell_type": "code",
   "execution_count": 1,
   "metadata": {},
   "outputs": [
    {
     "name": "stdout",
     "output_type": "stream",
     "text": [
      "[[ 5.1  3.5  1.4  0.2]\n",
      " [ 4.9  3.   1.4  0.2]]\n"
     ]
    }
   ],
   "source": [
    "#NumPy를 활용한 선형대수 입문 연습문제 2\n",
    "m = np.array([[5.1, 3.5, 1.4, 0.2], [4.9, 3.0, 1.4, 0.2]])\n",
    "print (m)"
   ]
  },
  {
   "cell_type": "markdown",
   "metadata": {},
   "source": [
    "### 전치연산\n",
    "- 전치(transpose) 연산은 행렬의 행과 열을 바꾸는 연산을 얘기함. 벡터나 행렬에 T 위첨자를 표시함. (4X6 > 6X4) <br />\n",
    "  벡터 x에 대해서 전치 연산을 적용한 xt는 행의 수가 1인 행벡터(row vector)라고 한다. <br />\n",
    "  NumPy에서는 ndarry 객체의 T라는 속성으로 전치행렬이 구해진다. T는 메소드가가 아닌 속성임! ()를 붙이면안됨!"
   ]
  },
  {
   "cell_type": "code",
   "execution_count": 29,
   "metadata": {},
   "outputs": [
    {
     "name": "stdout",
     "output_type": "stream",
     "text": [
      "[[ 5.1  4.9]\n",
      " [ 3.5  3. ]\n",
      " [ 1.4  1.4]\n",
      " [ 0.2  0.2]]\n",
      "[[ 5.1  3.5  1.4  0.2]\n",
      " [ 4.9  3.   1.4  0.2]]\n",
      "[[ True  True  True  True]\n",
      " [ True  True  True  True]]\n",
      "[[ 0.19607843  0.20408163]\n",
      " [ 0.28571429  0.33333333]\n",
      " [ 0.71428571  0.71428571]\n",
      " [ 5.          5.        ]]\n"
     ]
    }
   ],
   "source": [
    "#NumPy를 활용한 선형대수 입문 연습문제 3\n",
    "print(m.T)\n",
    "print(m.T.T)\n",
    "print(m == m.T.T)\n",
    "print(m.T**-1)"
   ]
  },
  {
   "cell_type": "markdown",
   "metadata": {},
   "source": [
    "### 행렬의 행 표기법과 열 표기법\n",
    "- 전치연산과 행백터, 열벡터를 이용하면 행렬을 복수의 열벡와 복수의 행벡터가 합쳐진 형태로 표현할 수 있다. (손으로 이해!)"
   ]
  },
  {
   "cell_type": "markdown",
   "metadata": {},
   "source": [
    "### 특수한 행렬과 벡터\n",
    "- 영벡터 : 모든 원소가 0인 N차원 벡터 0n or 0 으로 표기 \n",
    "- 일벡터 : 모든 원소가 1인 N차원 벡터 1n or 1 로 표기\n",
    "- 정방행렬 : 행의 크기와 열의 크기가 같은 행렬 (square matrix)\n",
    "- 대각행렬 : 모든 비대각 요소가 0인 정방행렬 (diagonal matrix)\n",
    "- 단위행렬 : 대각행렬 중에서 모든 대각 성분의 값이 1인 행렬 (identity matrix), 대문자 I로 표기함. \n",
    "- 대칭행렬 : 전치연산의 결과가 원래의 행렬과 같은행렬 (sysmetric matrix),정방행렬만 대칭행렬이 될 수 있음. "
   ]
  },
  {
   "cell_type": "code",
   "execution_count": 18,
   "metadata": {},
   "outputs": [
    {
     "name": "stdout",
     "output_type": "stream",
     "text": [
      "[[1 0 0 0 0]\n",
      " [0 2 0 0 0]\n",
      " [0 0 3 0 0]\n",
      " [0 0 0 4 0]\n",
      " [0 0 0 0 5]]\n",
      "[[ 1.  0.  0.  0.  0.]\n",
      " [ 0.  1.  0.  0.  0.]\n",
      " [ 0.  0.  1.  0.  0.]\n",
      " [ 0.  0.  0.  1.  0.]\n",
      " [ 0.  0.  0.  0.  1.]]\n",
      "[[ 1.  0.  0.  0.  0.]\n",
      " [ 0.  1.  0.  0.  0.]\n",
      " [ 0.  0.  1.  0.  0.]\n",
      " [ 0.  0.  0.  1.  0.]\n",
      " [ 0.  0.  0.  0.  1.]]\n"
     ]
    }
   ],
   "source": [
    "print(np.diag([1, 2, 3, 4, 5]))\n",
    "print(np.eye(5))\n",
    "print(np.identity(5)) "
   ]
  },
  {
   "cell_type": "code",
   "execution_count": 23,
   "metadata": {},
   "outputs": [
    {
     "name": "stdout",
     "output_type": "stream",
     "text": [
      "[0 0 0]\n",
      "[1 1 1]\n",
      "[[2 3]\n",
      " [2 4]]\n",
      "[[1 0 0]\n",
      " [0 3 0]\n",
      " [0 0 5]]\n",
      "[[1 0 0 0 0]\n",
      " [0 3 0 0 0]\n",
      " [0 0 5 0 0]\n",
      " [0 0 0 7 0]\n",
      " [0 0 0 0 9]]\n",
      "[[1 0 0]\n",
      " [0 1 0]\n",
      " [0 0 1]]\n",
      "[[ 1.  0.  0.  0.  0.]\n",
      " [ 0.  1.  0.  0.  0.]\n",
      " [ 0.  0.  1.  0.  0.]\n",
      " [ 0.  0.  0.  1.  0.]\n",
      " [ 0.  0.  0.  0.  1.]]\n",
      "[[ True  True  True]\n",
      " [ True  True  True]\n",
      " [ True  True  True]]\n"
     ]
    }
   ],
   "source": [
    "#NumPy를 활용한 선형대수 입문 연습문제4\n",
    "zero = np.array([0, 0, 0])\n",
    "print (zero)\n",
    "one = np.array([1, 1, 1])\n",
    "print (one)\n",
    "sq = np.array([[2, 3], [2,4]])\n",
    "print (sq)\n",
    "di = np.array([[1,0,0], [0, 3, 0], [0, 0, 5]])\n",
    "print (di)\n",
    "print (np.diag([1, 3, 5, 7, 9]))\n",
    "iden = np.array([[1, 0, 0], [0, 1, 0], [0, 0, 1]])\n",
    "print (iden)\n",
    "print (np.identity(5))\n",
    "sy = np.array([[1, 4, 7], [4, 3, 6], [7, 6, 5]])\n",
    "print (sy.T == sy)"
   ]
  },
  {
   "cell_type": "markdown",
   "metadata": {
    "collapsed": true
   },
   "source": [
    "# 벡터와 행렬의 연산"
   ]
  },
  {
   "cell_type": "markdown",
   "metadata": {},
   "source": [
    "[벡터와 행렬의 연산](https://datascienceschool.net/view-notebook/3f44cfdda2874080a9aa6b034c71d5ec/)"
   ]
  },
  {
   "cell_type": "markdown",
   "metadata": {},
   "source": [
    "- 덧셈 뺄셈은 그냥 대칭되는 원소끼리 연산 \n",
    "- shape이 다른 행렬은 연산이 불가함."
   ]
  },
  {
   "cell_type": "markdown",
   "metadata": {},
   "source": [
    "### 벡터의 곱셈(내적)\n",
    "- 벡터의 곱셈에는 내적(inner product)와 외적(outer product)가 존재함. (과정에서는 내적만 다룸) <br />\n",
    "- 내적은 점으로 표현하는 경우가 많아서 dot product라고 함. \n",
    "- 벡터의 곱셈이 진행되기 위해서는 첫째, 두 벡터의 차원이 동일해야하고, 둘째, 첫번째 벡터가 행벡터 두번째 벡터가 열벡터여야 함. \n",
    "- 수식 손으로 이해!!"
   ]
  },
  {
   "cell_type": "markdown",
   "metadata": {},
   "source": [
    "### 벡터의 곱셈 활용!! 가중합!!\n",
    "- 각각의 수에 가중치를 곱한 후 곱셈의 결과를 합한것. \n",
    "- 수식 손으로 이해!\n"
   ]
  },
  {
   "cell_type": "code",
   "execution_count": 27,
   "metadata": {},
   "outputs": [
    {
     "name": "stdout",
     "output_type": "stream",
     "text": [
      "32\n",
      "[[4 5 6]]\n"
     ]
    }
   ],
   "source": [
    "w = np.array([[1], [2], [3]])\n",
    "x = np.array([[4], [5], [6]])\n",
    "print(np.dot(w.T, x)[0][0])"
   ]
  },
  {
   "cell_type": "markdown",
   "metadata": {},
   "source": [
    "### 평균!\n",
    "- 가중치가 1/n인 가중평균 "
   ]
  },
  {
   "cell_type": "code",
   "execution_count": 26,
   "metadata": {},
   "outputs": [
    {
     "name": "stdout",
     "output_type": "stream",
     "text": [
      "[ 5.]\n"
     ]
    }
   ],
   "source": [
    "print(np.dot(np.ones(len(x)).T, x) / len(x))"
   ]
  },
  {
   "cell_type": "markdown",
   "metadata": {},
   "source": [
    "### 제곱합\n",
    "- 데이터의 분산이나 표준편차를 구하기 위해서 제곱의 합을 구할필요가 있음. \n",
    "- 수식은 손으로이해!"
   ]
  },
  {
   "cell_type": "markdown",
   "metadata": {},
   "source": [
    "### 선형회귀 모형\n",
    "\n",
    "- 선형회귀 모형 (linear regression model) 독립변수 x로 부터 종속변수 y를 예측하기 위한 방법의 하나로써 <br />\n",
    "  독립변수 벡터 x와 가중치 벡터 w와의 가중합으로 y와 가장비슷한 y hat을 계산하는 수식을 예기한다. 간단하면서도 가장 많이 사용되는 예측모형임.<br />\n",
    "  예시, 수식 손으로 이해!\n",
    "- 인공신경망 (artificial neural network)에서는 선형회귀 모형을 다음과 같이 나타낸다.<br />\n",
    "  데이터는 노드(node) 혹은 뉴런(neuron)이라는 동그라미로 나타내고, <br />\n",
    "  곱셈은 선분(line)위에 곱할 숫자를 써서 나타낸다. <br />\n",
    "  덧셈은 여러개의 선분이 만나는 것으로 표시한다. ! 손으로 그려서 이해!"
   ]
  },
  {
   "cell_type": "markdown",
   "metadata": {
    "collapsed": true
   },
   "source": [
    "### 행렬의 곱셈 (내적)\n",
    "- 곱셈 방식은 손으로 이해!"
   ]
  },
  {
   "cell_type": "code",
   "execution_count": 19,
   "metadata": {
    "scrolled": true
   },
   "outputs": [
    {
     "name": "stdout",
     "output_type": "stream",
     "text": [
      "[[22 28]\n",
      " [49 64]]\n",
      "----------------------------------------------------------------------------------------------------\n",
      "[[ 9 12 15]\n",
      " [19 26 33]\n",
      " [29 40 51]]\n",
      "----------------------------------------------------------------------------------------------------\n",
      "[[32 50]]\n",
      "----------------------------------------------------------------------------------------------------\n",
      "[[19 22]\n",
      " [43 50]]\n",
      "[[23 34]\n",
      " [31 46]]\n",
      "----------------------------------------------------------------------------------------------------\n",
      "[[1 2 3]]\n",
      "[[14]]\n",
      "[[1 2 3]\n",
      " [2 4 6]\n",
      " [3 6 9]]\n"
     ]
    }
   ],
   "source": [
    "#벡터와 행렬의 연산 연습문제1-1\n",
    "a = np.array([[1, 2, 3], [4, 5, 6]])\n",
    "b = np.array([[1, 2], [3, 4], [5,6]])\n",
    "c = np.dot(a, b)\n",
    "print (c)\n",
    "print (\"-\" * 100)\n",
    "\n",
    "#연습문제1-2\n",
    "d = np.dot(b, a)\n",
    "print (d)\n",
    "print (\"-\" * 100)\n",
    "\n",
    "#연습문제1-3\n",
    "e = np.array([[1, 2, 3]])\n",
    "f = np.array([[4, 7], [5, 8], [6, 9]])\n",
    "print(np.dot(e, f))\n",
    "#print(np.dot(f, e)) ValueError: shapes (3,2) and (1,3) not aligned: 2 (dim 1) != 1 (dim 0)\n",
    "print (\"-\" * 100)\n",
    "\n",
    "#연습문제1-4\n",
    "g = np.array([[1, 2], [3, 4]])\n",
    "h = np.array([[5, 6], [7, 8]])\n",
    "print (np.dot(g, h))\n",
    "print (np.dot(h, g))\n",
    "print (\"-\" * 100)\n",
    "\n",
    "#연습문제1-5\n",
    "i = np.array([[1], [2], [3]])\n",
    "print (i.T)\n",
    "print (np.dot(i.T, i))\n",
    "print (np.dot(i, i.T))\n",
    "              "
   ]
  },
  {
   "cell_type": "markdown",
   "metadata": {},
   "source": [
    "- 인공신경망은 내부적으로 여러개의 선형회귀 모형을 사용한다. 이구조는 행렬과 벡터의 곱으로 나타낼 수 있다. \n",
    "- 손으로 연습!\n",
    "- 곱셈의 순서가 바뀌면 연산결과가 달라짐, \n",
    "- 곱셈의 분배법칙은 성립한다. \n",
    "- 덧셈 뺄셈은 전치연산이 분배법칙이 그대로 적용되며, 전치연산과 곱셈의 경우 전치연산이 분배되면서 곱셈의 순서가 바뀐다. \n",
    "- 연결된 곱셈의 경우 구성 행렬의 순서가 변경되지 않는 다는 가정하에 연산의 순서는 어떻게 수행되어도 무방하다."
   ]
  },
  {
   "cell_type": "code",
   "execution_count": 20,
   "metadata": {},
   "outputs": [
    {
     "name": "stdout",
     "output_type": "stream",
     "text": [
      "[[19 22]\n",
      " [43 50]]\n",
      "[[23 34]\n",
      " [31 46]]\n",
      "[[42 42]\n",
      " [98 98]]\n",
      "[[42 42]\n",
      " [98 98]]\n",
      "[[ 6 10]\n",
      " [ 8 12]]\n",
      "[[ 6 10]\n",
      " [ 8 12]]\n",
      "[[19 43]\n",
      " [22 50]]\n",
      "[[19 43]\n",
      " [22 50]]\n"
     ]
    }
   ],
   "source": [
    "a1 = np.array([[1, 2], [3, 4]])\n",
    "a2 = np.array([[5, 6], [7, 8]])\n",
    "a3 = np.array([[9, 8], [7, 6]])\n",
    "print(np.dot(a1, a2)) \n",
    "print(np.dot(a2, a1))\n",
    "print(np.dot(a1, a2 + a3))\n",
    "print(np.dot(a1, a2) + np.dot(a1, a3))\n",
    "print((a1 + a2).T)\n",
    "print(a1.T + a2.T)\n",
    "print(np.dot(a1, a2).T)\n",
    "print(np.dot(a2.T, a1.T))"
   ]
  },
  {
   "cell_type": "code",
   "execution_count": 30,
   "metadata": {},
   "outputs": [
    {
     "name": "stdout",
     "output_type": "stream",
     "text": [
      "[[85]]\n",
      "[[85]]\n"
     ]
    }
   ],
   "source": [
    "#벡터와 행렬의 연산 연습문제 2\n",
    "v1 = np.array([[1, 2]])\n",
    "v2 = np.array([[1, 2], [2, 4]])\n",
    "v3 = np.array([[5], [6]])\n",
    "#print(np.dot(v1, v2, v3)) : Dot product of two arrays. \n",
    "print(np.dot(np.dot(v1, v2), v3))\n",
    "print(np.dot(v1, np.dot(v2, v3)))\n"
   ]
  },
  {
   "cell_type": "markdown",
   "metadata": {},
   "source": [
    "### 단위행렬의 곱셈\n",
    "- 어떤 정방행렬이던 단위행렬을 곱하면 값이 변하지 않는다. \n",
    "   IA = AI = A"
   ]
  },
  {
   "cell_type": "code",
   "execution_count": 34,
   "metadata": {},
   "outputs": [
    {
     "name": "stdout",
     "output_type": "stream",
     "text": [
      "[[1 2]\n",
      " [2 4]]\n",
      "[[ 1.  2.]\n",
      " [ 2.  4.]]\n",
      "[[ 1.  2.]\n",
      " [ 2.  4.]]\n"
     ]
    }
   ],
   "source": [
    "print(v2)\n",
    "print(np.dot(v2, np.eye(2)))\n",
    "print(np.dot(np.eye(2), v2))"
   ]
  },
  {
   "cell_type": "code",
   "execution_count": null,
   "metadata": {
    "collapsed": true
   },
   "outputs": [],
   "source": []
  }
 ],
 "metadata": {
  "kernelspec": {
   "display_name": "Python 3",
   "language": "python",
   "name": "python3"
  },
  "language_info": {
   "codemirror_mode": {
    "name": "ipython",
    "version": 3
   },
   "file_extension": ".py",
   "mimetype": "text/x-python",
   "name": "python",
   "nbconvert_exporter": "python",
   "pygments_lexer": "ipython3",
   "version": "3.6.1"
  }
 },
 "nbformat": 4,
 "nbformat_minor": 2
}
